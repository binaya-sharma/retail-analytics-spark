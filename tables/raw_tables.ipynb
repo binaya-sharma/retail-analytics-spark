{
 "cells": [
  {
   "cell_type": "code",
   "execution_count": null,
   "id": "f27af9c8",
   "metadata": {},
   "outputs": [],
   "source": [
    "#spark.sql(\"\"\" Delete from retail_raw.employee \"\"\")\n",
    "spark.sql(\"\"\" select * from retail_raw.sales_raw \"\"\").show(truncate=False)"
   ]
  },
  {
   "cell_type": "code",
   "execution_count": null,
   "id": "76448322",
   "metadata": {},
   "outputs": [],
   "source": [
    "#RAW Customers\n",
    "spark.sql('''CREATE DATABASE IF NOT EXISTS retail_raw''')\n",
    "\n",
    "spark.sql(\"\"\" \n",
    "CREATE TABLE IF NOT EXISTS retail_raw.customer (\n",
    "  customer_id   STRING,\n",
    "  customer_name STRING,\n",
    "  gender        STRING,\n",
    "  age           INT,\n",
    "  email         STRING,\n",
    "  phone_number  STRING,\n",
    "  city          STRING,\n",
    "  loyalty_tier  STRING,\n",
    "  source_file   STRING,\n",
    "  imported_date     TIMESTAMP\n",
    ")\n",
    "USING DELTA\n",
    "LOCATION 'file:/Users/Binaya/Documents/spark1/data/retail_raw/customer';\n",
    "\"\"\")\n",
    "\n",
    "'''\n",
    "spark.sql(\"SELECT * FROM retail_raw.customer\")\n",
    "spark.table(\"retail_raw.customer\")\n",
    "'''"
   ]
  },
  {
   "cell_type": "code",
   "execution_count": null,
   "id": "6dd82da5",
   "metadata": {},
   "outputs": [],
   "source": [
    "spark.sql(\"\"\"CREATE TABLE IF NOT EXISTS retail_raw.employee (\n",
    "  employee_id    STRING,\n",
    "  employee_code  STRING,\n",
    "  store_id       STRING,\n",
    "  store_name     STRING,\n",
    "  effective_from TIMESTAMP,\n",
    "  effective_to   TIMESTAMP,\n",
    "  is_current     BOOLEAN,\n",
    "  is_primary     BOOLEAN,\n",
    "  source_file   STRING,\n",
    "  imported_date     TIMESTAMP\n",
    ")\n",
    "USING DELTA\n",
    "LOCATION 'file:/Users/Binaya/Documents/spark1/data/retail_raw/employee' \"\"\")"
   ]
  },
  {
   "cell_type": "code",
   "execution_count": null,
   "id": "21640095",
   "metadata": {},
   "outputs": [],
   "source": [
    "spark.sql(\"\"\"\n",
    "\n",
    "CREATE TABLE IF NOT EXISTS retail_raw.product (\n",
    "  product_id     STRING,\n",
    "  product_name   STRING,\n",
    "  supplier_id    STRING,\n",
    "  supplier_name  STRING,\n",
    "  return_policy  STRING,\n",
    "  warranty       STRING,\n",
    "          source_file   STRING,\n",
    "  imported_date     TIMESTAMP\n",
    ")\n",
    "USING DELTA\n",
    "LOCATION 'file:/Users/Binaya/Documents/spark1/data/retail_raw/product'\n",
    "          \"\"\")"
   ]
  },
  {
   "cell_type": "code",
   "execution_count": null,
   "id": "53d63a31",
   "metadata": {},
   "outputs": [],
   "source": [
    "spark.sql(\"\"\" CREATE TABLE IF NOT EXISTS retail_raw.sales_raw (\n",
    "  sale_id          STRING,\n",
    "  sale_ts          TIMESTAMP,\n",
    "  customer_id      STRING,\n",
    "  product_id       STRING,\n",
    "  store_id         STRING,\n",
    "  employee_id      STRING,\n",
    "  quantity         INT,\n",
    "  unit_price       DECIMAL(10,2),\n",
    "  coupon_code      STRING,\n",
    "  discount_percent DECIMAL(5,2),\n",
    "  mode             STRING,\n",
    "            source_file   STRING,\n",
    "  imported_date     TIMESTAMP\n",
    ")\n",
    "USING DELTA\n",
    "LOCATION 'file:/Users/Binaya/Documents/spark1/data/retail_raw/sales_raw' \"\"\")"
   ]
  },
  {
   "cell_type": "code",
   "execution_count": null,
   "id": "4cc2d574",
   "metadata": {},
   "outputs": [],
   "source": [
    "spark.sql(\"\"\"CREATE TABLE IF NOT EXISTS retail_raw.store (\n",
    "  store_id   STRING,\n",
    "  store_name STRING,\n",
    "  city       STRING,\n",
    "            source_file   STRING,\n",
    "  imported_date     TIMESTAMP\n",
    ")\n",
    "USING DELTA\n",
    "LOCATION 'file:/Users/Binaya/Documents/spark1/data/retail_raw/store'\"\"\")"
   ]
  },
  {
   "cell_type": "code",
   "execution_count": null,
   "id": "5a307f24",
   "metadata": {},
   "outputs": [],
   "source": [
    "spark.sql(\"\"\"CREATE TABLE IF NOT EXISTS retail_raw.supplier (\n",
    "  supplier_id   STRING,\n",
    "  supplier_name STRING,\n",
    "            source_file   STRING,\n",
    "  imported_date     TIMESTAMP\n",
    ")\n",
    "USING DELTA\n",
    "LOCATION 'file:/Users/Binaya/Documents/spark1/data/retail_raw/supplier' \"\"\")"
   ]
  },
  {
   "cell_type": "code",
   "execution_count": null,
   "id": "f2cd74c3",
   "metadata": {},
   "outputs": [],
   "source": [
    "spark.table(\"retail_raw.supplier\").show()"
   ]
  },
  {
   "cell_type": "code",
   "execution_count": null,
   "id": "7e567dbb",
   "metadata": {},
   "outputs": [],
   "source": [
    "spark.sql(\"\"\"\n",
    "          select * from retail_raw.customer \"\"\").show(truncate=False)"
   ]
  },
  {
   "cell_type": "code",
   "execution_count": null,
   "id": "0c72fc1a",
   "metadata": {},
   "outputs": [],
   "source": [
    "#do not run --initial run only\n",
    "from pyspark.sql import SparkSession\n",
    "\n",
    "spark = (\n",
    "    SparkSession.builder\n",
    "    .master(\"local[*]\")\n",
    "    .appName(\"another-session\")\n",
    "    # Delta\n",
    "    .config(\"spark.jars.packages\", \"io.delta:delta-spark_2.13:4.0.0\")\n",
    "    .config(\"spark.sql.extensions\", \"io.delta.sql.DeltaSparkSessionExtension\")\n",
    "    .config(\"spark.sql.catalog.spark_catalog\", \"org.apache.spark.sql.delta.catalog.DeltaCatalog\")\n",
    "    # Hive support\n",
    "    .config(\"spark.sql.catalogImplementation\", \"hive\")\n",
    "    .config(\"spark.sql.warehouse.dir\", \"file:/Users/Binaya/Documents/spark1/spark-warehouse\")\n",
    "    .config(\n",
    "        \"javax.jdo.option.ConnectionURL\",\n",
    "        \"jdbc:derby:;databaseName=/Users/Binaya/Documents/spark1/metastore_db;create=true\"\n",
    "    )\n",
    "    .enableHiveSupport()\n",
    "    .getOrCreate()\n",
    ")"
   ]
  }
 ],
 "metadata": {
  "kernelspec": {
   "display_name": "spark1",
   "language": "python",
   "name": "python3"
  },
  "language_info": {
   "codemirror_mode": {
    "name": "ipython",
    "version": 3
   },
   "file_extension": ".py",
   "mimetype": "text/x-python",
   "name": "python",
   "nbconvert_exporter": "python",
   "pygments_lexer": "ipython3",
   "version": "3.12.7"
  }
 },
 "nbformat": 4,
 "nbformat_minor": 5
}
