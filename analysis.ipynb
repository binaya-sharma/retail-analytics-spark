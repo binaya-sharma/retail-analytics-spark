{
 "cells": [
  {
   "cell_type": "code",
   "execution_count": null,
   "id": "23f67351",
   "metadata": {},
   "outputs": [],
   "source": [
    "#do not run --initial run only\n",
    "from pyspark.sql import SparkSession\n",
    "\n",
    "spark = (\n",
    "    SparkSession.builder\n",
    "    .master(\"local[*]\")\n",
    "    .appName(\"another-session\")\n",
    "    # Delta\n",
    "    .config(\"spark.jars.packages\", \"io.delta:delta-spark_2.13:4.0.0\")\n",
    "    .config(\"spark.sql.extensions\", \"io.delta.sql.DeltaSparkSessionExtension\")\n",
    "    .config(\"spark.sql.catalog.spark_catalog\", \"org.apache.spark.sql.delta.catalog.DeltaCatalog\")\n",
    "    # Hive support\n",
    "    .config(\"spark.sql.catalogImplementation\", \"hive\")\n",
    "    .config(\"spark.sql.warehouse.dir\", \"file:/Users/Binaya/Documents/spark1/spark-warehouse\")\n",
    "    .config(\n",
    "        \"javax.jdo.option.ConnectionURL\",\n",
    "        \"jdbc:derby:;databaseName=/Users/Binaya/Documents/spark1/metastore_db;create=true\"\n",
    "    )\n",
    "    .enableHiveSupport()\n",
    "    .getOrCreate()\n",
    ")"
   ]
  },
  {
   "cell_type": "code",
   "execution_count": null,
   "id": "1075264a",
   "metadata": {},
   "outputs": [],
   "source": [
    "spark.sql(\"\"\"\n",
    "          select count(*) from retail_raw.sales_raw\n",
    "          \"\"\").show()"
   ]
  },
  {
   "cell_type": "code",
   "execution_count": null,
   "id": "19d25172",
   "metadata": {},
   "outputs": [],
   "source": [
    "print('=== dim_employee ===')\n",
    "spark.sql(\"\"\" select count(*) from retail_gold.fact_sales  \"\"\").show(truncate=False)"
   ]
  },
  {
   "cell_type": "code",
   "execution_count": null,
   "id": "d6b9cf97",
   "metadata": {},
   "outputs": [],
   "source": [
    "print('=== dim_employee ===')\n",
    "spark.sql(\"\"\" select * from retail_gold.dim_employee \"\"\").show(truncate=False)"
   ]
  },
  {
   "cell_type": "code",
   "execution_count": null,
   "id": "e1f14bcc",
   "metadata": {},
   "outputs": [],
   "source": [
    "from pyspark.sql.functions import *\n",
    "print('==dim_customer==')\n",
    "spark.sql(\"\"\" select * from retail_gold.dim_customer\"\"\").show()\n",
    "\n",
    "print('=== dim_employee ===')\n",
    "spark.sql(\"\"\" select * from retail_gold.dim_employee \"\"\").show()\n",
    "\n",
    "print('==dim_product==')\n",
    "spark.sql(\"\"\" select * from retail_gold.dim_product\"\"\").show(truncate=False)\n",
    "\n",
    "print('==dim_store==')\n",
    "spark.sql(\"\"\" select * from retail_gold.dim_store\"\"\").show(truncate=False)\n",
    "\n",
    "print('==dim_supplier==')\n",
    "spark.sql(\"\"\" select * from retail_gold.dim_supplier\"\"\").show(truncate=False)\n",
    "\n",
    "print('==dim_date==')\n",
    "spark.sql(\"\"\" select * from retail_gold.dim_date\"\"\").show(truncate=False)"
   ]
  },
  {
   "cell_type": "code",
   "execution_count": null,
   "id": "3d0fefe6",
   "metadata": {},
   "outputs": [],
   "source": [
    "print('=== Fact Table ===')\n",
    "\n",
    "spark.sql(\"\"\" select distinct\n",
    "          sale_id, date_sk, customer_sk, product_sk, store_sk, quantity, unit_price, discount_amt, gross_amt, net_amt, load_ts \n",
    "          from retail_gold.fact_sales \n",
    "         where employee_sk is not null\n",
    "           \"\"\").show(truncate=False)"
   ]
  },
  {
   "cell_type": "code",
   "execution_count": null,
   "id": "b03cb2cc",
   "metadata": {},
   "outputs": [],
   "source": [
    "spark.sql(\"\"\"\n",
    "SELECT\n",
    "          distinct\n",
    "e.employee_id , s.employee_id \n",
    "FROM retail_silver.sales_clean s\n",
    "LEFT JOIN retail_gold.dim_date     d  ON d.full_date = CAST(s.sale_ts AS DATE)\n",
    "LEFT JOIN retail_gold.dim_product  p  ON p.product_id = s.product_id\n",
    "LEFT JOIN retail_gold.dim_store    st ON st.store_id = s.store_id\n",
    "LEFT JOIN retail_gold.dim_customer c  ON c.customer_id = s.customer_id AND c.is_current = true\n",
    "LEFT JOIN retail_gold.dim_employee e  ON e.employee_id = s.employee_id AND e.is_current = true\n",
    "          \"\"\").show(10000)"
   ]
  },
  {
   "cell_type": "code",
   "execution_count": null,
   "id": "81fcc1c9",
   "metadata": {},
   "outputs": [],
   "source": [
    "spark.sql(\"\"\" select distinct _c5 from csv.`data/sales/sales.csv` order by 1 desc\"\"\").show(1000)"
   ]
  }
 ],
 "metadata": {
  "kernelspec": {
   "display_name": "spark1",
   "language": "python",
   "name": "python3"
  },
  "language_info": {
   "codemirror_mode": {
    "name": "ipython",
    "version": 3
   },
   "file_extension": ".py",
   "mimetype": "text/x-python",
   "name": "python",
   "nbconvert_exporter": "python",
   "pygments_lexer": "ipython3",
   "version": "3.12.7"
  }
 },
 "nbformat": 4,
 "nbformat_minor": 5
}
