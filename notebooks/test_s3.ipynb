{
 "cells": [
  {
   "cell_type": "code",
   "execution_count": 1,
   "id": "6c15bb94",
   "metadata": {},
   "outputs": [
    {
     "name": "stderr",
     "output_type": "stream",
     "text": [
      "WARNING: Using incubator modules: jdk.incubator.vector\n",
      "Using Spark's default log4j profile: org/apache/spark/log4j2-defaults.properties\n",
      "25/09/18 17:57:10 WARN Utils: Your hostname, Binayas-MacBook-Pro.local, resolves to a loopback address: 127.0.0.1; using 192.168.1.214 instead (on interface en0)\n",
      "25/09/18 17:57:10 WARN Utils: Set SPARK_LOCAL_IP if you need to bind to another address\n",
      "Using Spark's default log4j profile: org/apache/spark/log4j2-defaults.properties\n",
      "Setting default log level to \"WARN\".\n",
      "To adjust logging level use sc.setLogLevel(newLevel). For SparkR, use setLogLevel(newLevel).\n",
      "25/09/18 17:57:11 WARN NativeCodeLoader: Unable to load native-hadoop library for your platform... using builtin-java classes where applicable\n",
      "25/09/18 17:57:12 WARN MetricsConfig: Cannot locate configuration: tried hadoop-metrics2-s3a-file-system.properties,hadoop-metrics2.properties\n"
     ]
    },
    {
     "name": "stdout",
     "output_type": "stream",
     "text": [
      "Row count: 160\n",
      "+-----------+-------------+--------+---------------+--------------+------------+----------+----------+\n",
      "|employee_id|employee_code|store_id|     store_name|effective_from|effective_to|is_current|is_primary|\n",
      "+-----------+-------------+--------+---------------+--------------+------------+----------+----------+\n",
      "|          1|      Emp-101|       2|Kathmandu Store|    2024-01-01|  2024-04-29|     False|     False|\n",
      "|          1|      Emp-101|       3|  Lalitpur Shop|    2024-04-30|        NULL|      True|      True|\n",
      "|          2|      Emp-103|       1|Biratnagar Mart|    2024-01-01|        NULL|      True|      True|\n",
      "|          3|      Emp-104|       4| Pokhara Outlet|    2024-01-01|        NULL|      True|      True|\n",
      "|          4|      Emp-108|       2|Kathmandu Store|    2024-01-01|  2024-04-29|     False|     False|\n",
      "+-----------+-------------+--------+---------------+--------------+------------+----------+----------+\n",
      "only showing top 5 rows\n"
     ]
    }
   ],
   "source": [
    "from pyspark.sql import SparkSession\n",
    "import os\n",
    "\n",
    "spark = (\n",
    "    SparkSession.builder\n",
    "    .appName(\"S3AccessTest\")\n",
    "    .config(\"spark.hadoop.fs.s3a.impl\", \"org.apache.hadoop.fs.s3a.S3AFileSystem\")\n",
    "    .config(\"spark.hadoop.fs.s3a.aws.credentials.provider\", \"org.apache.hadoop.fs.s3a.SimpleAWSCredentialsProvider\")\n",
    "    .config(\"spark.hadoop.fs.s3a.access.key\", os.getenv(\"AWS_ACCESS_KEY_ID\"))\n",
    "    .config(\"spark.hadoop.fs.s3a.secret.key\", os.getenv(\"AWS_SECRET_ACCESS_KEY\"))\n",
    "    .config(\"spark.hadoop.fs.s3a.endpoint\", \"s3.amazonaws.com\")\n",
    "    .config(\"spark.hadoop.fs.s3a.threads.keepalivetime\", \"60000\")\n",
    "    .config(\"spark.hadoop.fs.s3a.retry.interval\", \"500\")\n",
    "    .config(\"spark.hadoop.fs.s3a.retry.throttle.interval\", \"100\")\n",
    "    .config(\"spark.hadoop.fs.s3a.multipart.purge.age\", \"86400000\")\n",
    "    .getOrCreate()\n",
    ")\n",
    "\n",
    "# Read from S3\n",
    "df = (\n",
    "    spark.read\n",
    "    .option(\"header\", \"true\")\n",
    "    .csv(\"s3a://spark-retail-analytics/employees/employees.csv\")\n",
    ")\n",
    "\n",
    "print(\"Row count:\", df.count())\n",
    "df.show(5)"
   ]
  }
 ],
 "metadata": {
  "kernelspec": {
   "display_name": "spark1",
   "language": "python",
   "name": "python3"
  },
  "language_info": {
   "codemirror_mode": {
    "name": "ipython",
    "version": 3
   },
   "file_extension": ".py",
   "mimetype": "text/x-python",
   "name": "python",
   "nbconvert_exporter": "python",
   "pygments_lexer": "ipython3",
   "version": "3.12.7"
  }
 },
 "nbformat": 4,
 "nbformat_minor": 5
}
